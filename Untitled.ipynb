{
  "metadata": {
    "language_info": {
      "codemirror_mode": {
        "name": "python",
        "version": 3
      },
      "file_extension": ".py",
      "mimetype": "text/x-python",
      "name": "python",
      "nbconvert_exporter": "python",
      "pygments_lexer": "ipython3",
      "version": "3.8"
    },
    "kernelspec": {
      "name": "python",
      "display_name": "Python (Pyodide)",
      "language": "python"
    }
  },
  "nbformat_minor": 4,
  "nbformat": 4,
  "cells": [
    {
      "cell_type": "markdown",
      "source": "1. Variables y tipos\nLos nombres de las variables son alfanuméricos (a-z, A-Z, 0-9) y empiezan con una letra en minúscula.\nNo se especifica el tipo de valor que una varible contiene, está implícito al momento de asignar un valor.\nNo se necesita poner ; al final de cada instrucción.\nMantener las indentaciones al momento de escribir código.\nNombres reservados en Python: and, as, assert, break, class, continue, def, del, elif, else, except, exec, finally, for, from, global, if, import, in, is, lambda, not, or, pass, print, raise, return, try, while, with, yield\n\n",
      "metadata": {}
    },
    {
      "cell_type": "code",
      "source": "#Inicializando variables\nx = 10     #variable de tipo entero\nprint(x)   #función para imprimir los valores de las variables\n\n#Se puede utilizar comillas dobles o simples para crear una cadena\ncadena = \"Hola Mundo\"    #varible de tipo cadena\nprint(cadena)",
      "metadata": {
        "trusted": true
      },
      "execution_count": 1,
      "outputs": [
        {
          "name": "stdout",
          "text": "10\nHola Mundo\n",
          "output_type": "stream"
        }
      ]
    },
    {
      "cell_type": "code",
      "source": "#Asigna un mismo valor a tres variables\nx = y = z = 10\nprint(x,y,z)\n",
      "metadata": {
        "trusted": true
      },
      "execution_count": 2,
      "outputs": [
        {
          "name": "stdout",
          "text": "10 10 10\n",
          "output_type": "stream"
        }
      ]
    },
    {
      "cell_type": "code",
      "source": "#La función type() permite conocer el tipo de una variable\ntype(x)",
      "metadata": {
        "trusted": true
      },
      "execution_count": 3,
      "outputs": [
        {
          "execution_count": 3,
          "output_type": "execute_result",
          "data": {
            "text/plain": "int"
          },
          "metadata": {}
        }
      ]
    },
    {
      "cell_type": "code",
      "source": "type(cadena)",
      "metadata": {
        "trusted": true
      },
      "execution_count": 5,
      "outputs": [
        {
          "execution_count": 5,
          "output_type": "execute_result",
          "data": {
            "text/plain": "int"
          },
          "metadata": {}
        }
      ]
    },
    {
      "cell_type": "code",
      "source": "#Se pueden cambiar los valores de las variables y el tipo se cambia automáticamente\nx = \"Hola Mundo\"\ncadena = 10",
      "metadata": {
        "trusted": true
      },
      "execution_count": 6,
      "outputs": []
    },
    {
      "cell_type": "code",
      "source": "type(x)",
      "metadata": {
        "trusted": true
      },
      "execution_count": 7,
      "outputs": [
        {
          "execution_count": 7,
          "output_type": "execute_result",
          "data": {
            "text/plain": "str"
          },
          "metadata": {}
        }
      ]
    },
    {
      "cell_type": "code",
      "source": "type(cadena)",
      "metadata": {
        "trusted": true
      },
      "execution_count": 8,
      "outputs": [
        {
          "execution_count": 8,
          "output_type": "execute_result",
          "data": {
            "text/plain": "int"
          },
          "metadata": {}
        }
      ]
    },
    {
      "cell_type": "markdown",
      "source": "Cuando una variable tiene un valor constante, por convención, el nombre se escribe en mayúsculas",
      "metadata": {}
    },
    {
      "cell_type": "markdown",
      "source": "# CADENAS\nLas cadenas pueden ser definidas usando comilla simple (') o comilla doble (\"). Una característica especial de las cadenas es que son inmutables, esto quiere decir que no se pueden cambiar los caracteres que contiene. El caracter \\ sirve para escapar carcteres como \\n o \\t.",
      "metadata": {}
    },
    {
      "cell_type": "code",
      "source": "#Inicializando cadenas\ncadena1 = 'Hola '\ncadena2 = \"Mundo\" \nprint(cadena1)\nprint(cadena2)\nconcat_cadenas = cadena1 + cadena2 #Concatenación de cadenas\nprint(concat_cadenas)",
      "metadata": {
        "trusted": true
      },
      "execution_count": 9,
      "outputs": [
        {
          "name": "stdout",
          "text": "Hola \nMundo\nHola Mundo\n",
          "output_type": "stream"
        }
      ]
    },
    {
      "cell_type": "code",
      "source": "#Para concatenar un número y una cadena se debe usar la función str()\nnum_cadena = concat_cadenas +' '+ str(3)  #Se agrega una cadena vacía para agregar un espacio\nprint(num_cadena)",
      "metadata": {
        "trusted": true
      },
      "execution_count": 10,
      "outputs": [
        {
          "name": "stdout",
          "text": "Hola Mundo 3\n",
          "output_type": "stream"
        }
      ]
    },
    {
      "cell_type": "markdown",
      "source": "Para concatenar cadenas se recomienda el uso de la función format(), en lugar del viejo estilo del operador '+'.",
      "metadata": {}
    },
    {
      "cell_type": "code",
      "source": "#El valor de la variable se va a imprimir en el lugar donde se encuentre {} en la cadena\nnum_cadena = \"{} {} {}\".format(cadena1, cadena2, 3)\nprint(num_cadena)",
      "metadata": {
        "trusted": true
      },
      "execution_count": 11,
      "outputs": [
        {
          "name": "stdout",
          "text": "Hola  Mundo 3\n",
          "output_type": "stream"
        }
      ]
    },
    {
      "cell_type": "markdown",
      "source": "Por medio de esta función, se puede cambiar el orden en que se imprimen las variables",
      "metadata": {}
    },
    {
      "cell_type": "code",
      "source": "#Cuando se agrega un númmero dentro de {#}, el valor la variable que se encuentra en esa posicón \n#dentro de la función format(), será impreso.\nnum_cadena = \"Cambiando el orden:  {1}  {2}  {0} #\".format(cadena1, cadena2, 3)\nprint(num_cadena)",
      "metadata": {
        "trusted": true
      },
      "execution_count": 12,
      "outputs": [
        {
          "name": "stdout",
          "text": "Cambiando el orden:  Mundo  3  Hola  #\n",
          "output_type": "stream"
        }
      ]
    },
    {
      "cell_type": "markdown",
      "source": " # OPERADORES\n### ARITMETICOS+, -, *, /",
      "metadata": {}
    },
    {
      "cell_type": "code",
      "source": "#Para el exponente se  puede utilizar asterisco\nprint( 1 + 5 )\nprint( 6 * 3 )\nprint( 10 - 4 )\nprint( 100 / 50 )\nprint( 10 % 2 )\nprint( ((20 * 3) + (10 +1)) / 10 )\nprint( 2**2 )",
      "metadata": {
        "trusted": true
      },
      "execution_count": 15,
      "outputs": [
        {
          "name": "stdout",
          "text": "6\n18\n6\n2.0\n0\n7.1\n4\n",
          "output_type": "stream"
        }
      ]
    },
    {
      "cell_type": "markdown",
      "source": "Booleanos: and, not, or",
      "metadata": {}
    },
    {
      "cell_type": "code",
      "source": "False and True",
      "metadata": {
        "trusted": true
      },
      "execution_count": 14,
      "outputs": [
        {
          "execution_count": 14,
          "output_type": "execute_result",
          "data": {
            "text/plain": "False"
          },
          "metadata": {}
        }
      ]
    },
    {
      "cell_type": "markdown",
      "source": "### Comparación: >, <, >=, <=, ==",
      "metadata": {}
    },
    {
      "cell_type": "code",
      "source": "print (7 < 5)  #Falso\n\nprint (7 > 5) #Verdadero\n\nprint ((11 * 3)+2 == 36 - 1)  #Verdadero\n\nprint ((11 * 3)+2 >= 36)   #Falso\n\nprint (\"curso\" != \"CuRsO\") #Verdadero",
      "metadata": {},
      "execution_count": null,
      "outputs": []
    },
    {
      "cell_type": "markdown",
      "source": "# LISTAS \n\n\nBásicamente son valores que están separados por comas dentro de paréntesis cuadrados.\nEstá compuesta por cualquier cantidad y/o tipo de datos, ya sean cadenas, caracteres, números e inclusive otras listas.\nSe puede acceder a las listas por medio de índices, estos índices comienzan desde 0 hasta el número de elementos menos 1.\nLas listas son mutables",
      "metadata": {}
    },
    {
      "cell_type": "code",
      "source": "#Declaracion de una lista simple\nlista_diasDelMes=[31,28,31,30,31,30,31,31,30,31,30,31]\n\nprint (lista_diasDelMes)       #imprimir la lista completa\nprint (lista_diasDelMes[0])   #imprimir elemento 1\nprint (lista_diasDelMes[6])   #imprimir elemento 7\nprint (lista_diasDelMes[11])  #imprimir elemento 1",
      "metadata": {
        "trusted": true
      },
      "execution_count": 16,
      "outputs": [
        {
          "name": "stdout",
          "text": "[31, 28, 31, 30, 31, 30, 31, 31, 30, 31, 30, 31]\n31\n31\n31\n",
          "output_type": "stream"
        }
      ]
    },
    {
      "cell_type": "code",
      "source": "#Declaracion de listas anidadas\n\nlista_numeros=[['cero', 0],['uno',1, 'UNO'], ['dos',2], ['tres', 3], ['cuatro',4], ['X',5]]\n\nprint (lista_numeros)      #imprimir lista completa\n\nprint (lista_numeros[0])    #imprime el elemento 0 de la lista\nprint (lista_numeros[1])    #imprime el elemento 1 de la lista\n\nprint (lista_numeros[2][0]) #imprime el primer elemento de la lista en la posicion 2\nprint (lista_numeros[2][1]) #imprime el segundo elemento de la lista en la posicion 2\n\nprint (lista_numeros[1][0])\nprint (lista_numeros[1][1])\nprint (lista_numeros[1][2])",
      "metadata": {
        "trusted": true
      },
      "execution_count": 17,
      "outputs": [
        {
          "name": "stdout",
          "text": "[['cero', 0], ['uno', 1, 'UNO'], ['dos', 2], ['tres', 3], ['cuatro', 4], ['X', 5]]\n['cero', 0]\n['uno', 1, 'UNO']\ndos\n2\nuno\n1\nUNO\n",
          "output_type": "stream"
        }
      ]
    },
    {
      "cell_type": "code",
      "source": "#Cambiando el valor de uno de los elementos de la lista\n\nlista_numeros[5][0] = \"cinco\"\nprint (lista_numeros[5])",
      "metadata": {
        "trusted": true
      },
      "execution_count": 18,
      "outputs": [
        {
          "name": "stdout",
          "text": "['cinco', 5]\n",
          "output_type": "stream"
        }
      ]
    },
    {
      "cell_type": "markdown",
      "source": "# TUPLAS\n\nSon pareceidas a las listas, valores separados por una coma.\nComparadas con las listas, las tuplas no son mutables.\nSe pueden aplicar las mismas operaciones que en as listas y su ventaja es que consumen menos memoria para almacenarse.\nSe crean, ya sea utilizando paréntesis o simplemente separando los valores por comas",
      "metadata": {}
    },
    {
      "cell_type": "code",
      "source": "#Declaracion de una tupla\ntupla_diasDelMes=(31,28,31,30,31,30,31,31,30,31,30,31)\n\nprint (tupla_diasDelMes)       #imprimir la tupla completa\nprint (tupla_diasDelMes[0])    #imprimir elemento 1\nprint (tupla_diasDelMes[3])    #imprimir elemento 4\nprint (tupla_diasDelMes[1])   #imprimir elemento 2",
      "metadata": {
        "trusted": true
      },
      "execution_count": 20,
      "outputs": [
        {
          "name": "stdout",
          "text": "(31, 28, 31, 30, 31, 30, 31, 31, 30, 31, 30, 31)\n31\n30\n28\n",
          "output_type": "stream"
        }
      ]
    },
    {
      "cell_type": "code",
      "source": "#Declaracion de tuplas anidadas\n\ntupla_numeros=(('cero', 0),('uno',1, 'UNO'), ('dos',2), ('tres', 3), ('cuatro',4), ('X',5))\n\nprint (tupla_numeros)        #imprimir tupla completa\n\nprint (tupla_numeros[0])     #imprime el elemento 0 de la tupla\nprint (tupla_numeros[1])     #imprime el elemento 1 de la tupla\n\nprint (tupla_numeros[2][0])  #imprime el primer elemento de la tupla en la posicion 2\nprint (tupla_numeros[2][1])  #imprime el segundo elemento de la tupla en la posicion 2\n\nprint (tupla_numeros[1][0])\nprint (tupla_numeros[1][1])\nprint (tupla_numeros[1][2])",
      "metadata": {
        "trusted": true
      },
      "execution_count": 19,
      "outputs": [
        {
          "name": "stdout",
          "text": "(('cero', 0), ('uno', 1, 'UNO'), ('dos', 2), ('tres', 3), ('cuatro', 4), ('X', 5))\n('cero', 0)\n('uno', 1, 'UNO')\ndos\n2\nuno\n1\nUNO\n",
          "output_type": "stream"
        }
      ]
    },
    {
      "cell_type": "code",
      "source": "#Probando la mutabilidad de las listas vs la no mutabilidad de las tuplas\nprint(\"valor actual {}\".format(lista_diasDelMes[0]))\nlista_diasDelMes[0] = 50\nprint(\"valor cambiado {}\".format(lista_diasDelMes[0]))\ntupla_diasDelMes[0] = 50   #Esta asignación manda",
      "metadata": {
        "trusted": true
      },
      "execution_count": 21,
      "outputs": [
        {
          "name": "stdout",
          "text": "valor actual 31\nvalor cambiado 50\n",
          "output_type": "stream"
        },
        {
          "ename": "<class 'TypeError'>",
          "evalue": "'tuple' object does not support item assignment",
          "traceback": [
            "\u001b[0;31m---------------------------------------------------------------------------\u001b[0m",
            "\u001b[0;31mTypeError\u001b[0m                                 Traceback (most recent call last)",
            "Cell \u001b[0;32mIn[21], line 5\u001b[0m\n\u001b[1;32m      3\u001b[0m lista_diasDelMes[\u001b[38;5;241m0\u001b[39m] \u001b[38;5;241m=\u001b[39m \u001b[38;5;241m50\u001b[39m\n\u001b[1;32m      4\u001b[0m \u001b[38;5;28mprint\u001b[39m(\u001b[38;5;124m\"\u001b[39m\u001b[38;5;124mvalor cambiado \u001b[39m\u001b[38;5;132;01m{}\u001b[39;00m\u001b[38;5;124m\"\u001b[39m\u001b[38;5;241m.\u001b[39mformat(lista_diasDelMes[\u001b[38;5;241m0\u001b[39m]))\n\u001b[0;32m----> 5\u001b[0m \u001b[43mtupla_diasDelMes\u001b[49m\u001b[43m[\u001b[49m\u001b[38;5;241;43m0\u001b[39;49m\u001b[43m]\u001b[49m \u001b[38;5;241m=\u001b[39m \u001b[38;5;241m50\u001b[39m   \u001b[38;5;66;03m#Esta asignación manda\u001b[39;00m\n",
            "\u001b[0;31mTypeError\u001b[0m: 'tuple' object does not support item assignment"
          ],
          "output_type": "error"
        }
      ]
    },
    {
      "cell_type": "markdown",
      "source": "# TUPLA CON NOMBRE\nEn comparación con las tuplas anteriores, este tipo especial de tuplas permite especificar un nombre para describirla",
      "metadata": {}
    },
    {
      "cell_type": "code",
      "source": "#Se debe importat la librería para hacer uso de namedtuple\nfrom collections import namedtuple\n\n#Se crea la tupla con nombre\n#El primer argumento es el nombre de la tupla, mientras que el segundo argumento son los campos\n#p es la referencia a la tupla\nplaneta = namedtuple('planeta', ['nombre', 'numero'])\n\n#Se crea el planeta 1 y se agregan a la tupla los valores correspondientes a los campos\nplaneta1 = planeta('Mercurio', 1)\nprint(planeta1)\n\n#Se crea el planeta 2\nplaneta2 = planeta('Venus', 2)\n\n#Se imprimen los valores de los campos\n#Usando la referencia se llama a cada uno de sus campos\nprint(planeta1.nombre, planeta1.numero)  \n#Se obtienen los valores por el orden de los campos\nprint(planeta2[0], planeta2[1])  \n\nprint('Campos de la tupla: {}'.format(planeta1._fields))",
      "metadata": {
        "trusted": true
      },
      "execution_count": 23,
      "outputs": [
        {
          "name": "stdout",
          "text": "planeta(nombre='Mercurio', numero=1)\nMercurio 1\nVenus 2\nCampos de la tupla: ('nombre', 'numero')\n",
          "output_type": "stream"
        }
      ]
    },
    {
      "cell_type": "code",
      "source": "#Al igual que las tuplas, éstas no son mutables, si se trata de cambiar el contenido, se genera un error\nplaneta1.nombre = 'Tierra'",
      "metadata": {
        "trusted": true
      },
      "execution_count": 24,
      "outputs": [
        {
          "ename": "<class 'AttributeError'>",
          "evalue": "can't set attribute",
          "traceback": [
            "\u001b[0;31m---------------------------------------------------------------------------\u001b[0m",
            "\u001b[0;31mAttributeError\u001b[0m                            Traceback (most recent call last)",
            "Cell \u001b[0;32mIn[24], line 2\u001b[0m\n\u001b[1;32m      1\u001b[0m \u001b[38;5;66;03m#Al igual que las tuplas, éstas no son mutables, si se trata de cambiar el contenido, se genera un error\u001b[39;00m\n\u001b[0;32m----> 2\u001b[0m \u001b[43mplaneta1\u001b[49m\u001b[38;5;241;43m.\u001b[39;49m\u001b[43mnombre\u001b[49m \u001b[38;5;241m=\u001b[39m \u001b[38;5;124m'\u001b[39m\u001b[38;5;124mTierra\u001b[39m\u001b[38;5;124m'\u001b[39m\n",
            "\u001b[0;31mAttributeError\u001b[0m: can't set attribute"
          ],
          "output_type": "error"
        }
      ]
    },
    {
      "cell_type": "markdown",
      "source": "# diccionarios\n\nUn diccionario se crea usando { } y consta de dos partes: llave y valor.\nLas llaves son inmutables, deben de tener un solo tipo de dato, una cadena o número. Una vez que es creado, no se puede cambiar su tipo.\nMientras que el valor puede ser de cualquier tipo y se puede cambiar con el tiempo.\nLos elemntos en un diccionario no están ordenados",
      "metadata": {}
    },
    {
      "cell_type": "code",
      "source": "#Creando un diccionario\nelementos = { 'hidrogeno': 1, 'helio': 2, 'carbon': 6 }\n\n#EL momento de la impresion, pueden aparecer en diferente orden del introducido\nprint (elementos)\n\nprint (elementos['hidrogeno'])",
      "metadata": {
        "trusted": true
      },
      "execution_count": 25,
      "outputs": [
        {
          "name": "stdout",
          "text": "{'hidrogeno': 1, 'helio': 2, 'carbon': 6}\n1\n",
          "output_type": "stream"
        }
      ]
    },
    {
      "cell_type": "code",
      "source": "#Se pueen agregar elementos al diccionario\nelementos['litio'] = 3\nelementos['nitrogeno'] = 8\n\nprint (elementos)  #Imprimiendo todos los elementos, nótese que los elementos no están orden",
      "metadata": {
        "trusted": true
      },
      "execution_count": 27,
      "outputs": [
        {
          "name": "stdout",
          "text": "{'hidrogeno': 1, 'helio': 2, 'carbon': 6, 'litio': 3, 'nitrogeno': 8}\n",
          "output_type": "stream"
        }
      ]
    },
    {
      "cell_type": "code",
      "source": "#Creando un nuevo diccionario\nelementos2 = {}\nelementos2['H'] = {'name': 'Hydrogen', 'number': 1, 'weight': 1.00794}\nelementos2['He'] = {'name': 'Helium', 'number': 2, 'weight': 4.002602}\n\nprint (elementos2)",
      "metadata": {
        "trusted": true
      },
      "execution_count": 28,
      "outputs": [
        {
          "name": "stdout",
          "text": "{'H': {'name': 'Hydrogen', 'number': 1, 'weight': 1.00794}, 'He': {'name': 'Helium', 'number': 2, 'weight': 4.002602}}\n",
          "output_type": "stream"
        }
      ]
    },
    {
      "cell_type": "code",
      "source": "#Imprimiendo los datos de un elemento del diccionario\nprint (elementos2['H'])\nprint (elementos2['H']['name'])\nprint (elementos2['H']['number'])\nelementos2['H']['weight'] =  4.30  #Cambiando el valor de un elemento\nprint (elementos2['H']['weight'])",
      "metadata": {
        "trusted": true
      },
      "execution_count": 29,
      "outputs": [
        {
          "name": "stdout",
          "text": "{'name': 'Hydrogen', 'number': 1, 'weight': 1.00794}\nHydrogen\n1\n4.3\n",
          "output_type": "stream"
        }
      ]
    },
    {
      "cell_type": "code",
      "source": "#Agregando elementos a una llave\nelementos2['H'].update({'gas noble':True})\nprint (elementos2['H'])",
      "metadata": {
        "trusted": true
      },
      "execution_count": 30,
      "outputs": [
        {
          "name": "stdout",
          "text": "{'name': 'Hydrogen', 'number': 1, 'weight': 4.3, 'gas noble': True}\n",
          "output_type": "stream"
        }
      ]
    },
    {
      "cell_type": "code",
      "source": "#Muestra todos los elementos del diccionario\nprint (elementos2.items())\n\n#Muestra todas las llaves del diccionario\nprint (elementos2.keys())",
      "metadata": {
        "trusted": true
      },
      "execution_count": 31,
      "outputs": [
        {
          "name": "stdout",
          "text": "dict_items([('H', {'name': 'Hydrogen', 'number': 1, 'weight': 4.3, 'gas noble': True}), ('He', {'name': 'Helium', 'number': 2, 'weight': 4.002602})])\ndict_keys(['H', 'He'])\n",
          "output_type": "stream"
        }
      ]
    },
    {
      "cell_type": "markdown",
      "source": "# funciones \n\nUna función o procedimiento sirve para empaquetar código que sirve para ser reutilizado.\nSe puede usar ese mismo código con diferentes entradas y obtener resultados o comportamiento de acuerdo con esos datos",
      "metadata": {}
    },
    {
      "cell_type": "code",
      "source": "#Las funciones pueden recibir n número de parámetros, no se necesita indicar el tipo\ndef imprime_nombre(nombre):\n    print(\"hola \"+nombre)  #Las cadenas se pueden concatenar con el +",
      "metadata": {
        "trusted": true
      },
      "execution_count": 32,
      "outputs": []
    },
    {
      "cell_type": "code",
      "source": "#Llamada a la función\nimprime_nombre(\"JJ\")",
      "metadata": {
        "trusted": true
      },
      "execution_count": 33,
      "outputs": [
        {
          "name": "stdout",
          "text": "hola JJ\n",
          "output_type": "stream"
        }
      ]
    },
    {
      "cell_type": "code",
      "source": "#Definiendo una función que regresa el cuadrado de un número\ndef cuadrado(x):\n    return x**2",
      "metadata": {
        "trusted": true
      },
      "execution_count": 35,
      "outputs": []
    },
    {
      "cell_type": "code",
      "source": "x = 5\n#La función format() sirve para convertir los parámetros que recibe, en cadenas; éstos valores son reemplazadas\n#por las llaves de la cadena.\nprint(\"El cuadrado de {} es {}\".format(x, cuadrado(x)))   #La función cuadrado() regresa un valor",
      "metadata": {
        "trusted": true
      },
      "execution_count": 36,
      "outputs": [
        {
          "name": "stdout",
          "text": "El cuadrado de 5 es 25\n",
          "output_type": "stream"
        }
      ]
    },
    {
      "cell_type": "code",
      "source": "#Definiendo una función que regrese más de un valor\ndef varios(x):\n    return x**2, x**3, x**4",
      "metadata": {
        "trusted": true
      },
      "execution_count": 39,
      "outputs": []
    },
    {
      "cell_type": "code",
      "source": "\n#Los valores que regresa la función pueden ser guardado en variables separadas por ,\nval1, val2, val3 = varios(2)\nprint(\"{} {} {}\".format(val1, val2, val3))",
      "metadata": {
        "trusted": true
      },
      "execution_count": 40,
      "outputs": [
        {
          "name": "stdout",
          "text": "4 8 16\n",
          "output_type": "stream"
        }
      ]
    },
    {
      "cell_type": "code",
      "source": "#Función con un parámetro con un valor por defecto\ndef cuadrado_default(x=3):\n    return x**2",
      "metadata": {
        "trusted": true
      },
      "execution_count": 41,
      "outputs": []
    },
    {
      "cell_type": "code",
      "source": "#Como la función tiene un valor por defailt, si se manda llamar la función sin especificar el parámetro, se toma el que\n#tiene por defecto\ncuadrado_default()",
      "metadata": {
        "trusted": true
      },
      "execution_count": 42,
      "outputs": [
        {
          "execution_count": 42,
          "output_type": "execute_result",
          "data": {
            "text/plain": "9"
          },
          "metadata": {}
        }
      ]
    },
    {
      "cell_type": "markdown",
      "source": "Cuando una función regresa más de una función, se puede usar el operado '_', para no guardar un valor no deseado.",
      "metadata": {}
    },
    {
      "cell_type": "code",
      "source": "#La función regresa tres, valores, pero sólo nos interesa el primero y el tercero\nval4, _, val5 = varios(2)\nprint(\"{} {}\".format(val4, val5))",
      "metadata": {
        "trusted": true
      },
      "execution_count": 43,
      "outputs": [
        {
          "name": "stdout",
          "text": "4 16\n",
          "output_type": "stream"
        }
      ]
    },
    {
      "cell_type": "markdown",
      "source": "# Variables Globales\nPodemos decir que el ambiente de ejecución es donde se efectúan las de operaciones que componen un programa. Al momento de ejecutar un programa se crea un espacio de nombres para las variables. Hay dos tipos se espacio de nombres, el primero es el espacio global y el segundo el espacio local. Las variables que se declaren afuera de las funciones pertenecen as espacio global y no se necesita añadir un modificador para declararlas de esta manera. Por otro lado, todas las variables que se definen dentro de una función pertenecen al espacio local, estas variables sólo pueden ser reconocidas y usadas dentro de la propia función.",
      "metadata": {}
    },
    {
      "cell_type": "code",
      "source": "#Se crea una variable en el espacio global de nombres \nvg = 'Global'",
      "metadata": {
        "trusted": true
      },
      "execution_count": 45,
      "outputs": []
    },
    {
      "cell_type": "code",
      "source": "#Se crea una función que imprime la variable global\ndef funcion_v1():\n    print(vg)",
      "metadata": {
        "trusted": true
      },
      "execution_count": 46,
      "outputs": []
    },
    {
      "cell_type": "code",
      "source": "#Llamada a la función que imprime la variable global\nfuncion_v1()\n\n#Imprime la variable global\nprint(vg)",
      "metadata": {
        "trusted": true
      },
      "execution_count": 47,
      "outputs": [
        {
          "name": "stdout",
          "text": "Global\nGlobal\n",
          "output_type": "stream"
        }
      ]
    },
    {
      "cell_type": "code",
      "source": "#Se crea una variable local que tiene el mismo nombre que la variable global\ndef funcion_v2():\n    vg = \"Local\"\n    print(vg)",
      "metadata": {
        "trusted": true
      },
      "execution_count": 48,
      "outputs": []
    },
    {
      "cell_type": "code",
      "source": "#Llamada a la función \nfuncion_v2()  #Imprime valor local\n\n#Imprime la variable global\nprint(vg)",
      "metadata": {
        "trusted": true
      },
      "execution_count": 49,
      "outputs": [
        {
          "name": "stdout",
          "text": "Local\nGlobal\n",
          "output_type": "stream"
        }
      ]
    },
    {
      "cell_type": "code",
      "source": "#Se trata de imprimir el valor de la variable global, a diferencia de la función_v1(), se creó en el \n#espacio local de la funcion_v3() una variable con el mismo nombre, por lo que se reemplaza la variable\n#global\ndef funcion_v3():\n    print(vg)\n    vg = \"Local\"\n    print(vg)",
      "metadata": {
        "trusted": true
      },
      "execution_count": 50,
      "outputs": []
    },
    {
      "cell_type": "code",
      "source": "#Como se tiene una variable local y no se le ha asignado un valor, se genera un error\nfuncion_v3()",
      "metadata": {
        "trusted": true
      },
      "execution_count": 51,
      "outputs": [
        {
          "ename": "<class 'UnboundLocalError'>",
          "evalue": "cannot access local variable 'vg' where it is not associated with a value",
          "traceback": [
            "\u001b[0;31m---------------------------------------------------------------------------\u001b[0m",
            "\u001b[0;31mUnboundLocalError\u001b[0m                         Traceback (most recent call last)",
            "Cell \u001b[0;32mIn[51], line 2\u001b[0m\n\u001b[1;32m      1\u001b[0m \u001b[38;5;66;03m#Como se tiene una variable local y no se le ha asignado un valor, se genera un error\u001b[39;00m\n\u001b[0;32m----> 2\u001b[0m \u001b[43mfuncion_v3\u001b[49m\u001b[43m(\u001b[49m\u001b[43m)\u001b[49m\n",
            "Cell \u001b[0;32mIn[50], line 5\u001b[0m, in \u001b[0;36mfuncion_v3\u001b[0;34m()\u001b[0m\n\u001b[1;32m      4\u001b[0m \u001b[38;5;28;01mdef\u001b[39;00m \u001b[38;5;21mfuncion_v3\u001b[39m():\n\u001b[0;32m----> 5\u001b[0m     \u001b[38;5;28mprint\u001b[39m(\u001b[43mvg\u001b[49m)\n\u001b[1;32m      6\u001b[0m     vg \u001b[38;5;241m=\u001b[39m \u001b[38;5;124m\"\u001b[39m\u001b[38;5;124mLocal\u001b[39m\u001b[38;5;124m\"\u001b[39m\n\u001b[1;32m      7\u001b[0m     \u001b[38;5;28mprint\u001b[39m(vg)\n",
            "\u001b[0;31mUnboundLocalError\u001b[0m: cannot access local variable 'vg' where it is not associated with a value"
          ],
          "output_type": "error"
        }
      ]
    },
    {
      "cell_type": "code",
      "source": "#Para resolver el problema anterior y especificar que se quiere hacer uso de la variable global dentro de la\n#función funcion_v4(), se tiene que agregar la palabra reservada global\ndef funcion_v4():\n    global vg\n    print(vg)\n    vg = \"Local\"\n    print(vg)",
      "metadata": {
        "trusted": true
      },
      "execution_count": 52,
      "outputs": []
    },
    {
      "cell_type": "code",
      "source": "#Al momento de ejecutar la función se imprime el valor que tenía asignado vg antes de se modificado por la función.\n#Después de asignar el valor, éste es impreso\nfuncion_v4()\n\n#Se imprime la variable global con su valor modificado\nprint(vg)",
      "metadata": {
        "trusted": true
      },
      "execution_count": 53,
      "outputs": [
        {
          "name": "stdout",
          "text": "Global\nLocal\nLocal\n",
          "output_type": "stream"
        }
      ]
    },
    {
      "cell_type": "markdown",
      "source": "# Estructuras de control selectivas\n## if\nLa declaración IF sirve para ejecutar código dependiendo del resultado de una condición",
      "metadata": {}
    },
    {
      "cell_type": "code",
      "source": "def obtenerMayor(param1,param2):\n    if param1 < param2:\n        print('{} es mayor que {}'.format(param2, param1)) \n        ",
      "metadata": {
        "trusted": true
      },
      "execution_count": 54,
      "outputs": []
    },
    {
      "cell_type": "code",
      "source": "obtenerMayor(5, 7) ",
      "metadata": {
        "trusted": true
      },
      "execution_count": 55,
      "outputs": [
        {
          "name": "stdout",
          "text": "7 es mayor que 5\n",
          "output_type": "stream"
        }
      ]
    },
    {
      "cell_type": "code",
      "source": "obtenerMayor(7, 5)   #No imprime nada",
      "metadata": {
        "trusted": true
      },
      "execution_count": 56,
      "outputs": []
    },
    {
      "cell_type": "markdown",
      "source": "Se puede encadenar más de una una condición sin tener que agregar un operador booleano.",
      "metadata": {}
    },
    {
      "cell_type": "code",
      "source": "x = y = z = 3\nif x == y == z: \n    print(True)",
      "metadata": {
        "trusted": true
      },
      "execution_count": 57,
      "outputs": [
        {
          "name": "stdout",
          "text": "True\n",
          "output_type": "stream"
        }
      ]
    },
    {
      "cell_type": "markdown",
      "source": "## if-else\n\nEste tipo de declaraciones se usan para dar una opción en el caso de que la condición no se cumpla",
      "metadata": {}
    },
    {
      "cell_type": "code",
      "source": "def obtenerMayorv2(param1,param2):\n    if param1 < param2:\n        return param2\n    else:\n        return param1",
      "metadata": {
        "trusted": true
      },
      "execution_count": 58,
      "outputs": []
    },
    {
      "cell_type": "code",
      "source": "print (\"El mayor es {}\".format( obtenerMayorv2(4, 20) ))",
      "metadata": {
        "trusted": true
      },
      "execution_count": 59,
      "outputs": [
        {
          "name": "stdout",
          "text": "El mayor es 20\n",
          "output_type": "stream"
        }
      ]
    },
    {
      "cell_type": "code",
      "source": "print (\"El mayor es {}\".format( obtenerMayorv2(11, 6) )) ",
      "metadata": {
        "trusted": true
      },
      "execution_count": 60,
      "outputs": [
        {
          "name": "stdout",
          "text": "El mayor es 11\n",
          "output_type": "stream"
        }
      ]
    },
    {
      "cell_type": "markdown",
      "source": "Para comparaciones simples, Python no tiene un operador ternario (x ? True : False), pero se puede emular con if-else:",
      "metadata": {}
    },
    {
      "cell_type": "code",
      "source": "def obtenerMayor_idiom(param1,param2):\n    #La variable valor va a tener el valor de param2 is el if es verdadero\n    #de lo contrario tendra el valor de param1\n    valor = param2 if (param1 < param2) else param1\n    return valor",
      "metadata": {
        "trusted": true
      },
      "execution_count": 61,
      "outputs": []
    },
    {
      "cell_type": "code",
      "source": "print (\"El mayor es {}\".format( obtenerMayor_idiom(11, 6) )) ",
      "metadata": {
        "trusted": true
      },
      "execution_count": 62,
      "outputs": [
        {
          "name": "stdout",
          "text": "El mayor es 11\n",
          "output_type": "stream"
        }
      ]
    },
    {
      "cell_type": "markdown",
      "source": "## if-elif-else",
      "metadata": {}
    },
    {
      "cell_type": "code",
      "source": "def numeros(num):\n    if num==1:\n     print (\"tu numero es 1\")\n    elif num==2:\n     print (\"el numero es 2\")\n    elif num==3:\n     print (\"el numero es 3\")\n    elif num==4:\n     print (\"el numero es 4\")\n    else:\n     print (\"no hay opcion\")",
      "metadata": {
        "trusted": true
      },
      "execution_count": 63,
      "outputs": []
    },
    {
      "cell_type": "code",
      "source": "numeros(2)",
      "metadata": {
        "trusted": true
      },
      "execution_count": 64,
      "outputs": [
        {
          "name": "stdout",
          "text": "el numero es 2\n",
          "output_type": "stream"
        }
      ]
    },
    {
      "cell_type": "code",
      "source": "numeros(5)",
      "metadata": {
        "trusted": true
      },
      "execution_count": 69,
      "outputs": [
        {
          "name": "stdout",
          "text": "no hay opcion\n",
          "output_type": "stream"
        }
      ]
    },
    {
      "cell_type": "markdown",
      "source": "En alunos casos, se puede evitar la repetición de código del if-elif-else de la siguiente manera",
      "metadata": {}
    },
    {
      "cell_type": "code",
      "source": "def numeros_idiom(num):\n    #La tupla tiene las opciones válidas\n    if num in (1,2,3,4):\n        print(\"tu numero es {}\".format(num))\n    else:\n        print (\"{} no es una opcion\".format(num))",
      "metadata": {
        "trusted": true
      },
      "execution_count": 66,
      "outputs": []
    },
    {
      "cell_type": "code",
      "source": "numeros_idiom(2)",
      "metadata": {
        "trusted": true
      },
      "execution_count": 67,
      "outputs": [
        {
          "name": "stdout",
          "text": "tu numero es 2\n",
          "output_type": "stream"
        }
      ]
    },
    {
      "cell_type": "code",
      "source": "numeros_idiom(5)",
      "metadata": {
        "trusted": true
      },
      "execution_count": 68,
      "outputs": [
        {
          "name": "stdout",
          "text": "5 no es una opcion\n",
          "output_type": "stream"
        }
      ]
    },
    {
      "cell_type": "markdown",
      "source": "Estructura de control selectiva anidada",
      "metadata": {}
    },
    {
      "cell_type": "code",
      "source": "def obtenerMasGrande(a, b, c):\n    if a > b:\n        if a > c:\n            return a\n        else:\n            return c\n    else:\n        if b > c:\n            return b\n        else:\n            return c",
      "metadata": {
        "trusted": true
      },
      "execution_count": 70,
      "outputs": []
    },
    {
      "cell_type": "code",
      "source": "print (\"El mas grande es {}\".format(obtenerMasGrande(7,13,1) ))",
      "metadata": {
        "trusted": true
      },
      "execution_count": 71,
      "outputs": [
        {
          "name": "stdout",
          "text": "El mas grande es 13\n",
          "output_type": "stream"
        }
      ]
    },
    {
      "cell_type": "markdown",
      "source": "# Estruturas de control repetitivas\n## Ciclo while\nUn ciclo es la manera de ejecutar una o varias acciones repetidamente. A diferencia del IF o IF-ELSE que sólo se ejecuta una vez.\nPara que el ciclo se ejecute, la condición siempre tiene que ser verdadera",
      "metadata": {}
    },
    {
      "cell_type": "code",
      "source": "#Ejemplo 1\ndef cuenta(limite):\n    i = limite\n    while True:\n        print (i)\n        i = i -1\n        if i == 0:\n            break # Rompiendo el ciclo",
      "metadata": {
        "trusted": true
      },
      "execution_count": 72,
      "outputs": []
    },
    {
      "cell_type": "code",
      "source": "cuenta(10)",
      "metadata": {
        "trusted": true
      },
      "execution_count": 78,
      "outputs": [
        {
          "name": "stdout",
          "text": "10\n9\n8\n7\n6\n5\n4\n3\n2\n1\n",
          "output_type": "stream"
        }
      ]
    },
    {
      "cell_type": "code",
      "source": "#Ejemplo 2\ndef factorial(n):\n    i = 2\n    tmp = 1\n    while i <n+1:\n        tmp = tmp * i\n        i = i + 1\n    return tmp",
      "metadata": {
        "trusted": true
      },
      "execution_count": 74,
      "outputs": []
    },
    {
      "cell_type": "code",
      "source": "print (factorial(4))",
      "metadata": {
        "trusted": true
      },
      "execution_count": 75,
      "outputs": [
        {
          "name": "stdout",
          "text": "24\n",
          "output_type": "stream"
        }
      ]
    },
    {
      "cell_type": "code",
      "source": "print (factorial(6))",
      "metadata": {
        "trusted": true
      },
      "execution_count": 76,
      "outputs": [
        {
          "name": "stdout",
          "text": "720\n",
          "output_type": "stream"
        }
      ]
    },
    {
      "cell_type": "markdown",
      "source": "# Ciclo for\nEste ciclo es el más común usado en Python, se utiliza generalmente para hacer iteraciones en una lista, diccionarios y arreglos",
      "metadata": {}
    },
    {
      "cell_type": "code",
      "source": "for x in [1,2,3,4,5]:\n    print(x)",
      "metadata": {
        "trusted": true
      },
      "execution_count": 80,
      "outputs": [
        {
          "name": "stdout",
          "text": "1\n2\n3\n4\n5\n",
          "output_type": "stream"
        }
      ]
    },
    {
      "cell_type": "code",
      "source": "#La función range() sirve para generar una lista\nfor x in range(5): #este caso es equivalente a range(0,5)\n    print(x)",
      "metadata": {
        "trusted": true
      },
      "execution_count": 81,
      "outputs": [
        {
          "name": "stdout",
          "text": "0\n1\n2\n3\n4\n",
          "output_type": "stream"
        }
      ]
    },
    {
      "cell_type": "code",
      "source": "#También se puede inizializar desde números negativos \nfor x in range(-5,2):\n    print(x)",
      "metadata": {
        "trusted": true
      },
      "execution_count": 82,
      "outputs": [
        {
          "name": "stdout",
          "text": "-5\n-4\n-3\n-2\n-1\n0\n1\n",
          "output_type": "stream"
        }
      ]
    },
    {
      "cell_type": "code",
      "source": "for num in [\"uno\", \"dos\", \"tres\", \"cuatro\"]:\n    print(num)",
      "metadata": {
        "trusted": true
      },
      "execution_count": 83,
      "outputs": [
        {
          "name": "stdout",
          "text": "uno\ndos\ntres\ncuatro\n",
          "output_type": "stream"
        }
      ]
    },
    {
      "cell_type": "markdown",
      "source": "## Iteración en diccionarios",
      "metadata": {}
    },
    {
      "cell_type": "code",
      "source": "#Creando un diccionario\nelementos = { 'hidrogeno': 1, 'helio': 2, 'carbon': 6 }\n\nfor llave, valor in elementos.items():\n    print(llave, \" = \", valor)",
      "metadata": {
        "trusted": true
      },
      "execution_count": 85,
      "outputs": [
        {
          "name": "stdout",
          "text": "hidrogeno  =  1\nhelio  =  2\ncarbon  =  6\n",
          "output_type": "stream"
        }
      ]
    },
    {
      "cell_type": "code",
      "source": "#Obteniendo sólo las llaves\nfor llave in elementos.keys():\n    print(llave)",
      "metadata": {
        "trusted": true
      },
      "execution_count": 86,
      "outputs": [
        {
          "name": "stdout",
          "text": "hidrogeno\nhelio\ncarbon\n",
          "output_type": "stream"
        }
      ]
    },
    {
      "cell_type": "code",
      "source": "#Obteniendo sólo los valores\nfor valor in elementos.values():\n    print(valor)",
      "metadata": {
        "trusted": true
      },
      "execution_count": 87,
      "outputs": [
        {
          "name": "stdout",
          "text": "1\n2\n6\n",
          "output_type": "stream"
        }
      ]
    },
    {
      "cell_type": "markdown",
      "source": "En algunos lenguajes de programación se crea un índice para iterar un conjunto de elementos (for (int i=0; i < elementos.size(); ++i)), sin embargo con Python se puede utilizar la función enumerate() en su lugar.",
      "metadata": {}
    },
    {
      "cell_type": "code",
      "source": "#Si se necesita iterar utilizando un índice\nfor idx, x in enumerate(elementos):\n    print(\"El indice es: {} y el elemento: {}\".format(idx, x))",
      "metadata": {
        "trusted": true
      },
      "execution_count": 88,
      "outputs": [
        {
          "name": "stdout",
          "text": "El indice es: 0 y el elemento: hidrogeno\nEl indice es: 1 y el elemento: helio\nEl indice es: 2 y el elemento: carbon\n",
          "output_type": "stream"
        }
      ]
    },
    {
      "cell_type": "markdown",
      "source": "Los ciclos for pueden hacer uso del else una vez que terminan de iterar, pero no funciona si se rompe el ciclo.",
      "metadata": {}
    },
    {
      "cell_type": "code",
      "source": "def cuenta_idiom(limite):\n    for i in range(limite, 0, -1):\n        print(i)\n    else: #Corresponde al for, NO al IF \n        print(\"Cuenta finalizada\")",
      "metadata": {
        "trusted": true
      },
      "execution_count": 89,
      "outputs": []
    },
    {
      "cell_type": "code",
      "source": "cuenta_idiom(5)",
      "metadata": {
        "trusted": true
      },
      "execution_count": 90,
      "outputs": [
        {
          "name": "stdout",
          "text": "5\n4\n3\n2\n1\nCuenta finalizada\n",
          "output_type": "stream"
        }
      ]
    },
    {
      "cell_type": "code",
      "source": "#Se rompe el ciclo y la sentencia else del for no se ejecuta\ndef cuenta_idiomv2(limite):\n    for i in range(limite, 0, -1):\n        print(i)\n        if i == 3:\n            break  #Se rompe el ciclo\n    else: #Corresponde al FOR, NO al IF \n        print(\"Cuenta finalizada\")",
      "metadata": {
        "trusted": true
      },
      "execution_count": 91,
      "outputs": []
    },
    {
      "cell_type": "code",
      "source": "cuenta_idiomv2(5)",
      "metadata": {
        "trusted": true
      },
      "execution_count": 92,
      "outputs": [
        {
          "name": "stdout",
          "text": "5\n4\n3\n",
          "output_type": "stream"
        }
      ]
    },
    {
      "cell_type": "markdown",
      "source": "# Bibliotecas\nTodas las funcionalidades de Python son proporcionadas a través de bibliotecas que se encuentran en la colección de The Python Standard Library, la mayoría de estas bibliotecas son multi-plataforma.",
      "metadata": {}
    },
    {
      "cell_type": "code",
      "source": "#Para utilizar una biblioteca, ésta se debe de importar\nimport math\n\nx = math.cos(math.pi)\n\nprint(x)",
      "metadata": {
        "trusted": true
      },
      "execution_count": 94,
      "outputs": [
        {
          "name": "stdout",
          "text": "-1.0\n",
          "output_type": "stream"
        }
      ]
    },
    {
      "cell_type": "code",
      "source": "#También se pueden importar todas las funciones de la bibliotecas, de esta manera no se tiene que usar el prefijo \n#de la biblioteca, que en el ejemplo anterior fue math \nfrom math import *\n\nx = cos(pi)  #No se utiliza el prefijo math\n\nprint(x)",
      "metadata": {
        "trusted": true
      },
      "execution_count": 95,
      "outputs": [
        {
          "name": "stdout",
          "text": "-1.0\n",
          "output_type": "stream"
        }
      ]
    },
    {
      "cell_type": "code",
      "source": "#Otra manera es importar sólo las funciones que se necesitan\nfrom math import cos, pi\n\nx = cos(pi)\n\nprint(x)",
      "metadata": {
        "trusted": true
      },
      "execution_count": 96,
      "outputs": [
        {
          "name": "stdout",
          "text": "-1.0\n",
          "output_type": "stream"
        }
      ]
    },
    {
      "cell_type": "code",
      "source": "#Una vez que la biblioteca está importada, se pueden conocer las funciones que éste contiene\nprint(dir(math))",
      "metadata": {
        "trusted": true
      },
      "execution_count": 97,
      "outputs": [
        {
          "name": "stdout",
          "text": "['__doc__', '__loader__', '__name__', '__package__', '__spec__', 'acos', 'acosh', 'asin', 'asinh', 'atan', 'atan2', 'atanh', 'cbrt', 'ceil', 'comb', 'copysign', 'cos', 'cosh', 'degrees', 'dist', 'e', 'erf', 'erfc', 'exp', 'exp2', 'expm1', 'fabs', 'factorial', 'floor', 'fmod', 'frexp', 'fsum', 'gamma', 'gcd', 'hypot', 'inf', 'isclose', 'isfinite', 'isinf', 'isnan', 'isqrt', 'lcm', 'ldexp', 'lgamma', 'log', 'log10', 'log1p', 'log2', 'modf', 'nan', 'nextafter', 'perm', 'pi', 'pow', 'prod', 'radians', 'remainder', 'sin', 'sinh', 'sqrt', 'tan', 'tanh', 'tau', 'trunc', 'ulp']\n",
          "output_type": "stream"
        }
      ]
    },
    {
      "cell_type": "code",
      "source": "#Para conocer cómo utilizar las funciones, se puede utilizar la función help\nhelp(math.log)",
      "metadata": {
        "trusted": true
      },
      "execution_count": 98,
      "outputs": [
        {
          "name": "stdout",
          "text": "Help on built-in function log in module math:\n\nlog(...)\n    log(x, [base=math.e])\n    Return the logarithm of x to the given base.\n    \n    If the base not specified, returns the natural logarithm (base e) of x.\n\n",
          "output_type": "stream"
        }
      ]
    },
    {
      "cell_type": "code",
      "source": "#Se puede definir un alias para llamar a las funciones que tiene la biblioteca math.\n#Esta es la forma más recomendada para importar módulos, ya que de esta manera se sabe de qué módulo proviene la función.\nimport math as ma\n\nx = ma.cos(ma.pi)\n\nprint(x)",
      "metadata": {
        "trusted": true
      },
      "execution_count": 99,
      "outputs": [
        {
          "name": "stdout",
          "text": "-1.0\n",
          "output_type": "stream"
        }
      ]
    },
    {
      "cell_type": "markdown",
      "source": "# Bibliotecas más usadas\nNumPy (Numerical Python). Es una de las bibliotecas más populares de Python, es usado para realizar operaciones con vectores o matrices de una manera eficiente. Contiene funciones de Álgebra Lineal, transformadas de Fourier, generación de números aleatorios e integración con Fortran, C y C++.\nFuente: http://www.numpy.org/\n\nSciPy (Scientific Python). Es una biblioteca hace uso de Numpy y es utilizada para hacer operaciones más avanzadas como transformadas discretas de Fourier, Álgebra Lineal, Optimización, etc.\nFuente: http://www.scipy.org/\n\nMatplotlib. Esta biblioteca es usada para generar una veriedad de gráficas en 2D y 3D, donde cada una de las configuraciones de la gráfica es programable. Se puede usar comando de Latex para agregar ecuaciones matemáticas a las gráficas.\nFuente: http://matplotlib.org/\n\nScikit Learn (Machine Learning). Ésta biblioteca está basada en los anteriores y contiene algoritmos de aprendizaje de máquina, reconocimiento de patrones y estadísticas para realizar clasificación, regresión, clustering, etc.\nFuente: http://scikit-learn.org/\n\nPandas (Manipulación de datos). Esta biblioteca es utilizada para manipulación de datos, contiene estructuras de datos llamadas data frames que se asemejan a las hojas de cálculo y a los cuales se le puede aplicar una gran cantidad de funciones. Fuente: http://pandas.pydata.org/\n\nANEXO 1: En esta guía se explica de manera más detallada el uso de las bibliotecas Numpy y Matplotlib.",
      "metadata": {}
    },
    {
      "cell_type": "markdown",
      "source": "# Graficación\nMatplotlib (http://matplotlib.org/) es una biblioteca usada para generar gráficas en 2D y 3D, donde cada una de las configuraciones de la gráfica es programable. En el siguiente ejemplo se mostrará la configuración básica de una gráfica.",
      "metadata": {}
    },
    {
      "cell_type": "code",
      "source": "#Esta línea se ocupa para que las gráficas que se generen queden embebidas dentro de la página\n%pylab inline \n",
      "metadata": {
        "trusted": true
      },
      "execution_count": 102,
      "outputs": [
        {
          "name": "stderr",
          "text": "UsageError: Line magic function `%` not found.\n",
          "output_type": "stream"
        }
      ]
    },
    {
      "cell_type": "code",
      "source": "#Importando las bibliotecas\nimport matplotlib.pyplot as plt\nfrom mpl_toolkits.mplot3d import Axes3D",
      "metadata": {
        "trusted": true
      },
      "execution_count": 103,
      "outputs": []
    },
    {
      "cell_type": "code",
      "source": "#Datos de entrada\nx = linspace(0, 5, 20) #Generando 10 puntos entre 0 y 5",
      "metadata": {
        "trusted": true
      },
      "execution_count": 104,
      "outputs": [
        {
          "ename": "<class 'NameError'>",
          "evalue": "name 'linspace' is not defined",
          "traceback": [
            "\u001b[0;31m---------------------------------------------------------------------------\u001b[0m",
            "\u001b[0;31mNameError\u001b[0m                                 Traceback (most recent call last)",
            "Cell \u001b[0;32mIn[104], line 2\u001b[0m\n\u001b[1;32m      1\u001b[0m \u001b[38;5;66;03m#Datos de entrada\u001b[39;00m\n\u001b[0;32m----> 2\u001b[0m x \u001b[38;5;241m=\u001b[39m \u001b[43mlinspace\u001b[49m(\u001b[38;5;241m0\u001b[39m, \u001b[38;5;241m5\u001b[39m, \u001b[38;5;241m20\u001b[39m) \u001b[38;5;66;03m#Generando 10 puntos entre 0 y 5\u001b[39;00m\n",
            "\u001b[0;31mNameError\u001b[0m: name 'linspace' is not defined"
          ],
          "output_type": "error"
        }
      ]
    },
    {
      "cell_type": "code",
      "source": "fig, ax = plt.subplots(facecolor='w', edgecolor='k')\nax.plot(x, sin(x), marker=\"o\",color=\"r\", linestyle='None')\n\nax.grid(True)\nax.set_xlabel('X')  #Etiqueta del eje x\nax.set_ylabel('Y')  #Etiqueta del eje y\nax.grid(True)\nax.legend([\"y = x**2\"])\n\nplt.title('Puntos')\nplt.show()\n\nfig.savefig(\"gráfica.png\") #Guardando la gráfica",
      "metadata": {
        "trusted": true
      },
      "execution_count": 105,
      "outputs": [
        {
          "output_type": "display_data",
          "data": {
            "text/plain": "<Figure size 640x480 with 1 Axes>",
            "image/png": "[encoded data removed]"
          },
          "metadata": {}
        }
      ]
    },
    {
      "cell_type": "markdown",
      "source": "# Ejecución desde ventana de comandos\nTodos el código que se ha visto hasta el momento puede ser guardado en archivos de texto plano con la extensión .py. Para ejecutarlo desde la ventana de comandos se escribe el comando:\n\npython   nombre_archivo.py  \n###Hay que recordar que para Python es sumamente importante respetar las tabulaciones.\n\n## Entrada de datos\nAl igual que en otros lenguajes, también se puede se le puede pedir al usuario que introduzca ciertos datos de entrada cuando se ejecute un programa. Esto no se puede hacer desde la notebook, ya que los datos se introducen en las celdas que se van agregando a lo largo de la página, tal y como se ha venido manejando hast ahora. Como ejemplo se va a ejecutar el archivo lectura_datos.py desde una ventana de comandos.\n\npython   lectura_datos.py  \nAl momento de ejecutar el programa, se va a pedir al usuario que introduzca su nombre, esto se logra con el siguiente código:\n\nprint (\"Hola, ¿cómo te llamas?\")     #Se pide el nombre al usuario\nnombre = input()                     #Se leen los datos introducidos por el usuario y se asiganan a la variable nombre\nprint (\"Buen día {}\".format(nombre)  #Se escribe el nombre solicitado\nDespués de esto se despliega un menú donde se indican las operaciones que puede realizar el usuario, una vez que indicada la operación, se solicitan los datos necesarios para ejecutarla.\n\n\nprint (\"---Calculadora---\")          #Opciones para el usuario\nprint (\"1- Sumar\")\nprint (\"2- Restar\")\nprint (\"3- Multiplicar\")\nprint (\"4- Dividir\")\nprint (\"5- Salir\")\nEn la siguiente línea se solicita que el usuario especifique alguna de las operaciones, a diferencia de la primera petición, la función input() ahora tiene una cadena que se le despliega al usuario. A su vez, los datos que recibe la función input() son de tipo string, por lo que se tienen que transformar a entero con la función int() para poder realizar operaciones aritméticas.\n\nop = int(input('Opcion: ')) ",
      "metadata": {}
    },
    {
      "cell_type": "code",
      "source": "",
      "metadata": {},
      "execution_count": null,
      "outputs": []
    },
    {
      "cell_type": "code",
      "source": "",
      "metadata": {},
      "execution_count": null,
      "outputs": []
    }
  ]
}